{
 "cells": [
  {
   "cell_type": "markdown",
   "metadata": {},
   "source": [
    "#### Splitting into train and test"
   ]
  },
  {
   "cell_type": "code",
   "execution_count": 1,
   "metadata": {},
   "outputs": [
    {
     "name": "stdout",
     "output_type": "stream",
     "text": [
      "Data splitting and copying completed.\n"
     ]
    }
   ],
   "source": [
    "import os\n",
    "import shutil\n",
    "import random\n",
    "\n",
    "# Specify paths for image and annotation directories\n",
    "image_dir = 'JPEGImages'\n",
    "annotation_dir = 'all_annotations'\n",
    "\n",
    "# Define the split ratio\n",
    "split_ratio = 0.2\n",
    "\n",
    "# Set random seed for reproducibility\n",
    "random.seed(42)\n",
    "\n",
    "# Get the list of image files\n",
    "image_files = os.listdir(image_dir)\n",
    "\n",
    "# Shuffle the list of image files\n",
    "random.shuffle(image_files)\n",
    "\n",
    "# Calculate the number of images for validation\n",
    "num_val_images = int(len(image_files) * split_ratio)\n",
    "\n",
    "# Split the list of image files into training and validation sets\n",
    "train_image_files = image_files[:-num_val_images]\n",
    "val_image_files = image_files[-num_val_images:]\n",
    "\n",
    "# Create directories for training and validation sets if they don't exist\n",
    "train_image_output_dir = 'dataset2\\\\images\\\\train'\n",
    "val_image_output_dir = 'dataset2\\\\images\\\\val'\n",
    "train_annotation_output_dir = 'dataset2\\\\labels\\\\train'\n",
    "val_annotation_output_dir = 'dataset2\\\\labels\\\\val'\n",
    "\n",
    "os.makedirs(train_image_output_dir, exist_ok=True)\n",
    "os.makedirs(val_image_output_dir, exist_ok=True)\n",
    "os.makedirs(train_annotation_output_dir, exist_ok=True)\n",
    "os.makedirs(val_annotation_output_dir, exist_ok=True)\n",
    "\n",
    "# Copy images to training and validation directories\n",
    "for image_file in train_image_files:\n",
    "    shutil.copy(os.path.join(image_dir, image_file), os.path.join(train_image_output_dir, image_file))\n",
    "\n",
    "for image_file in val_image_files:\n",
    "    shutil.copy(os.path.join(image_dir, image_file), os.path.join(val_image_output_dir, image_file))\n",
    "\n",
    "# Copy corresponding annotation files to training and validation directories\n",
    "for image_file in train_image_files:\n",
    "    annotation_file = os.path.splitext(image_file)[0] + '.txt'\n",
    "    shutil.copy(os.path.join(annotation_dir, annotation_file), os.path.join(train_annotation_output_dir, annotation_file))\n",
    "\n",
    "for image_file in val_image_files:\n",
    "    annotation_file = os.path.splitext(image_file)[0] + '.txt'\n",
    "    shutil.copy(os.path.join(annotation_dir, annotation_file), os.path.join(val_annotation_output_dir, annotation_file))\n",
    "\n",
    "print(\"Data splitting and copying completed.\")"
   ]
  }
 ],
 "metadata": {
  "kernelspec": {
   "display_name": "sars",
   "language": "python",
   "name": "python3"
  },
  "language_info": {
   "codemirror_mode": {
    "name": "ipython",
    "version": 3
   },
   "file_extension": ".py",
   "mimetype": "text/x-python",
   "name": "python",
   "nbconvert_exporter": "python",
   "pygments_lexer": "ipython3",
   "version": "3.10.13"
  }
 },
 "nbformat": 4,
 "nbformat_minor": 2
}
